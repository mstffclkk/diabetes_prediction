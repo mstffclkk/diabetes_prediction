{
 "cells": [
  {
   "cell_type": "markdown",
   "id": "dd5c06641e742eae",
   "metadata": {
    "collapsed": false
   },
   "source": [
    "# Diabetes EDA"
   ]
  },
  {
   "cell_type": "markdown",
   "id": "2d881d832c5bfd73",
   "metadata": {
    "collapsed": false
   },
   "source": [
    "## Import libraries"
   ]
  },
  {
   "cell_type": "code",
   "execution_count": 142,
   "id": "b83b04309eb776a8",
   "metadata": {
    "ExecuteTime": {
     "end_time": "2023-12-19T11:11:20.308300109Z",
     "start_time": "2023-12-19T11:11:20.125993254Z"
    },
    "collapsed": false
   },
   "outputs": [],
   "source": [
    "import joblib\n",
    "import pandas as pd\n",
    "import numpy as np\n",
    "import seaborn as sns\n",
    "from matplotlib import pyplot as plt\n",
    "from sklearn.ensemble import RandomForestClassifier, GradientBoostingClassifier, VotingClassifier, AdaBoostClassifier\n",
    "from sklearn.linear_model import LogisticRegression\n",
    "from sklearn.model_selection import cross_validate, GridSearchCV\n",
    "from sklearn.neighbors import KNeighborsClassifier\n",
    "from sklearn.svm import SVC\n",
    "from sklearn.tree import DecisionTreeClassifier\n",
    "from sklearn.preprocessing import StandardScaler\n",
    "from xgboost import XGBClassifier\n",
    "from lightgbm import LGBMClassifier\n",
    "from catboost import CatBoostClassifier\n",
    "\n",
    "import warnings\n",
    "warnings.simplefilter(action=\"ignore\")\n",
    "\n",
    "pd.set_option('display.max_columns', None)\n",
    "pd.set_option('display.width', 500)\n",
    "\n",
    "df = pd.read_csv(\"/home/mustafa/PycharmProjects/diabetes_pred/diabetes.csv\")\n",
    "\n"
   ]
  },
  {
   "cell_type": "markdown",
   "id": "80686375a5280ef5",
   "metadata": {
    "collapsed": false
   },
   "source": [
    "### 1- Exploratory Data Analysis (EDA)"
   ]
  },
  {
   "cell_type": "markdown",
   "id": "db4c98621c05551a",
   "metadata": {
    "collapsed": false
   },
   "source": [
    "#### check_df is a function that I wrote to get a quick overview of the data set."
   ]
  },
  {
   "cell_type": "code",
   "execution_count": 143,
   "id": "initial_id",
   "metadata": {
    "ExecuteTime": {
     "end_time": "2023-12-19T11:11:20.382092183Z",
     "start_time": "2023-12-19T11:11:20.326191835Z"
    },
    "collapsed": true,
    "jupyter": {
     "outputs_hidden": true
    }
   },
   "outputs": [
    {
     "name": "stdout",
     "output_type": "stream",
     "text": [
      "##################### Shape #####################\n",
      "(768, 9)\n",
      "\n",
      "##################### Info #####################\n",
      "<class 'pandas.core.frame.DataFrame'>\n",
      "RangeIndex: 768 entries, 0 to 767\n",
      "Data columns (total 9 columns):\n",
      " #   Column                    Non-Null Count  Dtype  \n",
      "---  ------                    --------------  -----  \n",
      " 0   Pregnancies               768 non-null    int64  \n",
      " 1   Glucose                   768 non-null    int64  \n",
      " 2   BloodPressure             768 non-null    int64  \n",
      " 3   SkinThickness             768 non-null    int64  \n",
      " 4   Insulin                   768 non-null    int64  \n",
      " 5   BMI                       768 non-null    float64\n",
      " 6   DiabetesPedigreeFunction  768 non-null    float64\n",
      " 7   Age                       768 non-null    int64  \n",
      " 8   Outcome                   768 non-null    int64  \n",
      "dtypes: float64(2), int64(7)\n",
      "memory usage: 54.1 KB\n",
      "None\n",
      "\n",
      "##################### Types #####################\n",
      "Pregnancies                   int64\n",
      "Glucose                       int64\n",
      "BloodPressure                 int64\n",
      "SkinThickness                 int64\n",
      "Insulin                       int64\n",
      "BMI                         float64\n",
      "DiabetesPedigreeFunction    float64\n",
      "Age                           int64\n",
      "Outcome                       int64\n",
      "dtype: object\n",
      "\n",
      "##################### Head #####################\n",
      "   Pregnancies  Glucose  BloodPressure  SkinThickness  Insulin   BMI  DiabetesPedigreeFunction  Age  Outcome\n",
      "0            6      148             72             35        0  33.6                     0.627   50        1\n",
      "1            1       85             66             29        0  26.6                     0.351   31        0\n",
      "2            8      183             64              0        0  23.3                     0.672   32        1\n",
      "3            1       89             66             23       94  28.1                     0.167   21        0\n",
      "4            0      137             40             35      168  43.1                     2.288   33        1\n",
      "\n",
      "##################### Tail #####################\n",
      "     Pregnancies  Glucose  BloodPressure  SkinThickness  Insulin   BMI  DiabetesPedigreeFunction  Age  Outcome\n",
      "763           10      101             76             48      180  32.9                     0.171   63        0\n",
      "764            2      122             70             27        0  36.8                     0.340   27        0\n",
      "765            5      121             72             23      112  26.2                     0.245   30        0\n",
      "766            1      126             60              0        0  30.1                     0.349   47        1\n",
      "767            1       93             70             31        0  30.4                     0.315   23        0\n",
      "\n",
      "################ Null Values ##################\n",
      "False\n",
      "\n",
      "##################### NA #####################\n",
      "Pregnancies                 0\n",
      "Glucose                     0\n",
      "BloodPressure               0\n",
      "SkinThickness               0\n",
      "Insulin                     0\n",
      "BMI                         0\n",
      "DiabetesPedigreeFunction    0\n",
      "Age                         0\n",
      "Outcome                     0\n",
      "dtype: int64\n",
      "\n",
      "##################### Not in 0 for NA #####################\n",
      "Series([], dtype: int64)\n",
      "\n",
      "##################### Quantiles #####################\n",
      "                          count        mean         std     min      0%        5%       50%        95%        99%    100%     max\n",
      "Pregnancies               768.0    3.845052    3.369578   0.000   0.000   0.00000    3.0000   10.00000   13.00000   17.00   17.00\n",
      "Glucose                   768.0  120.894531   31.972618   0.000   0.000  79.00000  117.0000  181.00000  196.00000  199.00  199.00\n",
      "BloodPressure             768.0   69.105469   19.355807   0.000   0.000  38.70000   72.0000   90.00000  106.00000  122.00  122.00\n",
      "SkinThickness             768.0   20.536458   15.952218   0.000   0.000   0.00000   23.0000   44.00000   51.33000   99.00   99.00\n",
      "Insulin                   768.0   79.799479  115.244002   0.000   0.000   0.00000   30.5000  293.00000  519.90000  846.00  846.00\n",
      "BMI                       768.0   31.992578    7.884160   0.000   0.000  21.80000   32.0000   44.39500   50.75900   67.10   67.10\n",
      "DiabetesPedigreeFunction  768.0    0.471876    0.331329   0.078   0.078   0.14035    0.3725    1.13285    1.69833    2.42    2.42\n",
      "Age                       768.0   33.240885   11.760232  21.000  21.000  21.00000   29.0000   58.00000   67.00000   81.00   81.00\n",
      "Outcome                   768.0    0.348958    0.476951   0.000   0.000   0.00000    0.0000    1.00000    1.00000    1.00    1.00\n",
      "\n",
      "##################### Value Counts #####################\n",
      "[Outcome\n",
      "0    500\n",
      "1    268\n",
      "Name: count, dtype: int64]\n"
     ]
    }
   ],
   "source": [
    "def check_df(dataframe, head=5):\n",
    "    print(\"##################### Shape #####################\")\n",
    "    print(dataframe.shape)\n",
    "    print(\"\\n##################### Info #####################\")\n",
    "    print(dataframe.info())\n",
    "    print(\"\\n##################### Types #####################\")\n",
    "    print(dataframe.dtypes)\n",
    "    print(\"\\n##################### Head #####################\")\n",
    "    print(dataframe.head(head))\n",
    "    print(\"\\n##################### Tail #####################\")\n",
    "    print(dataframe.tail(head))\n",
    "    print(\"\\n################ Null Values ##################\")\n",
    "    print(dataframe.isnull().values.any())\n",
    "    print(\"\\n##################### NA #####################\")\n",
    "    print(dataframe.isnull().sum())\n",
    "    print(\"\\n##################### Not in 0 for NA #####################\")\n",
    "    print(df.isnull().sum()[df.isnull().sum() != 0])\n",
    "    print(\"\\n##################### Quantiles #####################\")\n",
    "    print(dataframe.describe([0, 0.05, 0.50, 0.95, 0.99, 1]).T)\n",
    "    print(\"\\n##################### Value Counts #####################\")\n",
    "    print([df[col].value_counts() for col in df.columns if df[col].nunique() < 10])\n",
    "\n",
    "check_df(df)"
   ]
  },
  {
   "cell_type": "markdown",
   "id": "1614210c3e25c5dc",
   "metadata": {
    "collapsed": false
   },
   "source": [
    "Pregnancies: Number of pregnancies\n",
    "Glucose: Expressing the Glucose level in the blood\n",
    "BloodPressure: Blood pressure (Diastolic)\n",
    "SkinThickness: Skin Thickness\n",
    "Insulin: Insulin level in the blood\n",
    "BMI: Body mass index.\n",
    "DiabetesPedigreeFunction: A function that calculates our probability of having diabetes based on people in our ancestry.\n",
    "Age: Age (years)\n",
    "Outcome: Information about whether the person has diabetes or not. Having the disease (1) or not (0)"
   ]
  },
  {
   "cell_type": "markdown",
   "id": "1a58aa074dc3bbec",
   "metadata": {
    "collapsed": false
   },
   "source": [
    "- All variables are numeric. \n",
    "- The target variable is \"Outcome\"\n",
    "- There are no missing values.\n",
    "- No Null Values\n",
    "- Minimum value of many values, etc. Values such as appear as 0. It is not possible for a person's values such as glucose, insulin, blood pressure to be zero. Most likely, missing values in the data are filled with zeros."
   ]
  },
  {
   "cell_type": "markdown",
   "id": "a9e66f56dc130c9d",
   "metadata": {
    "collapsed": false
   },
   "source": [
    "#### Capture Numerical and Categorical Variables"
   ]
  },
  {
   "cell_type": "code",
   "execution_count": 144,
   "id": "7f15b796a756238f",
   "metadata": {
    "ExecuteTime": {
     "end_time": "2023-12-19T11:11:20.437910687Z",
     "start_time": "2023-12-19T11:11:20.371210853Z"
    },
    "collapsed": false
   },
   "outputs": [
    {
     "name": "stdout",
     "output_type": "stream",
     "text": [
      "Observations: 768\n",
      "Variables: 9\n",
      "cat_cols: 1\n",
      "num_cols: 8\n",
      "cat_but_car: 0\n",
      "num_but_cat: 1\n",
      "\n",
      "cat_cols: ['Outcome']\n",
      "num_cols: ['Pregnancies', 'Glucose', 'BloodPressure', 'SkinThickness', 'Insulin', 'BMI', 'DiabetesPedigreeFunction', 'Age']\n",
      "cat_but_car: []\n"
     ]
    }
   ],
   "source": [
    "def grab_col_names(dataframe, cat_th=10, car_th=20):\n",
    "    \"\"\"\n",
    "     It gives the names of categorical, numerical and categorical but cardinal variables in the data set.\n",
    "     Note: Categorical variables with numerical appearance are also included.\n",
    "\n",
    "     parameters\n",
    "     ------\n",
    "         dataframe: dataframe\n",
    "                 Dataframe from which variable names are to be taken\n",
    "         cat_th: int, optional\n",
    "                 Class threshold value for variables that are numeric but categorical\n",
    "         car_th: int, optional\n",
    "                 class threshold for categorical but cardinal variables\n",
    "\n",
    "     returns\n",
    "     ------\n",
    "         cat_cols: list\n",
    "                 Categorical variable list\n",
    "         num_cols: list\n",
    "                 Numerical variable list\n",
    "         cat_but_car: list\n",
    "                 List of cardinal variables with categorical view\n",
    "\n",
    "     examples\n",
    "     ------\n",
    "         import seaborn as sns\n",
    "         df = sns.load_dataset(\"iris\")\n",
    "         print(grab_col_names(df))\n",
    "\n",
    "\n",
    "     Notes\n",
    "     ------\n",
    "         cat_cols + num_cols + cat_but_car = total number of variables\n",
    "         num_but_cat is inside cat_cols.\n",
    "\n",
    "    \"\"\"\n",
    "    # cat_cols, cat_but_car\n",
    "    cat_cols = [col for col in dataframe.columns if str(dataframe[col].dtypes) in [\"category\", \"object\", \"bool\"]]\n",
    "\n",
    "    num_but_cat = [col for col in dataframe.columns if\n",
    "                   dataframe[col].nunique() < 10 and dataframe[col].dtypes in [\"int64\", \"float64\", \"int32\", \"float32\"]]\n",
    "\n",
    "    cat_but_car = [col for col in dataframe.columns if\n",
    "                   dataframe[col].nunique() > 20 and str(dataframe[col].dtypes) in [\"category\", \"object\"]]\n",
    "\n",
    "    cat_cols = cat_cols + num_but_cat\n",
    "    cat_cols = [col for col in cat_cols if col not in cat_but_car]\n",
    "\n",
    "    # num_cols\n",
    "    num_cols = [col for col in dataframe.columns if dataframe[col].dtypes in [\"int64\", \"float64\", \"int32\", \"float32\"]]\n",
    "    num_cols = [col for col in num_cols if col not in cat_cols]\n",
    "\n",
    "    print(f\"Observations: {dataframe.shape[0]}\\nVariables: {dataframe.shape[1]}\\ncat_cols: {len(cat_cols)}\\n\"\n",
    "          f\"num_cols: {len(num_cols)}\\ncat_but_car: {len(cat_but_car)}\\nnum_but_cat: {len(num_but_cat)}\")\n",
    "\n",
    "    return cat_cols, num_cols, cat_but_car\n",
    "\n",
    "cat_cols, num_cols, cat_but_car = grab_col_names(df, cat_th=5, car_th=20)\n",
    "print(f\"\\ncat_cols: {cat_cols}\\nnum_cols: {num_cols}\\ncat_but_car: {cat_but_car}\")"
   ]
  },
  {
   "cell_type": "markdown",
   "id": "583bb9f8585e3399",
   "metadata": {
    "collapsed": false
   },
   "source": [
    "#### Analysis with Categorical Variables"
   ]
  },
  {
   "cell_type": "code",
   "execution_count": 145,
   "id": "d6c03aff44125634",
   "metadata": {
    "ExecuteTime": {
     "end_time": "2023-12-19T11:11:20.470222674Z",
     "start_time": "2023-12-19T11:11:20.394024140Z"
    },
    "collapsed": false
   },
   "outputs": [
    {
     "name": "stdout",
     "output_type": "stream",
     "text": [
      "         Outcome      Ratio\n",
      "Outcome                    \n",
      "0            500  65.104167\n",
      "1            268  34.895833\n",
      "##########################################\n"
     ]
    }
   ],
   "source": [
    "def cat_summary(dataframe, col_name, plot=False):\n",
    "    print(pd.DataFrame({col_name: dataframe[col_name].value_counts(),\n",
    "                        \"Ratio\": 100 * dataframe[col_name].value_counts() / len(dataframe)}))\n",
    "    print(\"##########################################\")\n",
    "\n",
    "    if plot:\n",
    "        sns.countplot(x=dataframe[col_name], data=dataframe)\n",
    "        plt.show(block=True)\n",
    "        \n",
    "cat_summary(df, \"Outcome\")"
   ]
  },
  {
   "cell_type": "markdown",
   "id": "7cfd84594ea21945",
   "metadata": {
    "collapsed": false
   },
   "source": [
    "#### Analysis with Numerical Variables"
   ]
  },
  {
   "cell_type": "code",
   "execution_count": 146,
   "id": "b26f2271750f64bb",
   "metadata": {
    "ExecuteTime": {
     "end_time": "2023-12-19T11:11:22.086317841Z",
     "start_time": "2023-12-19T11:11:20.456975549Z"
    },
    "collapsed": false
   },
   "outputs": [
    {
     "name": "stdout",
     "output_type": "stream",
     "text": [
      "count    768.000000\n",
      "mean       3.845052\n",
      "std        3.369578\n",
      "min        0.000000\n",
      "5%         0.000000\n",
      "10%        0.000000\n",
      "20%        1.000000\n",
      "30%        1.000000\n",
      "40%        2.000000\n",
      "50%        3.000000\n",
      "60%        4.000000\n",
      "70%        5.000000\n",
      "80%        7.000000\n",
      "90%        9.000000\n",
      "95%       10.000000\n",
      "99%       13.000000\n",
      "max       17.000000\n",
      "Name: Pregnancies, dtype: float64\n",
      "\n",
      "##########################################\n"
     ]
    },
    {
     "data": {
      "image/png": "[encoded data removed]",
      "text/plain": [
       "<Figure size 640x480 with 1 Axes>"
      ]
     },
     "metadata": {},
     "output_type": "display_data"
    },
    {
     "name": "stdout",
     "output_type": "stream",
     "text": [
      "count    768.000000\n",
      "mean     120.894531\n",
      "std       31.972618\n",
      "min        0.000000\n",
      "5%        79.000000\n",
      "10%       85.000000\n",
      "20%       95.000000\n",
      "30%      102.000000\n",
      "40%      109.000000\n",
      "50%      117.000000\n",
      "60%      125.000000\n",
      "70%      134.000000\n",
      "80%      147.000000\n",
      "90%      167.000000\n",
      "95%      181.000000\n",
      "99%      196.000000\n",
      "max      199.000000\n",
      "Name: Glucose, dtype: float64\n",
      "\n",
      "##########################################\n"
     ]
    },
    {
     "data": {
      "image/png": "[encoded data removed]",
      "text/plain": [
       "<Figure size 640x480 with 1 Axes>"
      ]
     },
     "metadata": {},
     "output_type": "display_data"
    },
    {
     "name": "stdout",
     "output_type": "stream",
     "text": [
      "count    768.000000\n",
      "mean      69.105469\n",
      "std       19.355807\n",
      "min        0.000000\n",
      "5%        38.700000\n",
      "10%       54.000000\n",
      "20%       60.000000\n",
      "30%       64.000000\n",
      "40%       68.000000\n",
      "50%       72.000000\n",
      "60%       74.000000\n",
      "70%       78.000000\n",
      "80%       82.000000\n",
      "90%       88.000000\n",
      "95%       90.000000\n",
      "99%      106.000000\n",
      "max      122.000000\n",
      "Name: BloodPressure, dtype: float64\n",
      "\n",
      "##########################################\n"
     ]
    },
    {
     "data": {
      "image/png": "[encoded data removed]",
      "text/plain": [
       "<Figure size 640x480 with 1 Axes>"
      ]
     },
     "metadata": {},
     "output_type": "display_data"
    },
    {
     "name": "stdout",
     "output_type": "stream",
     "text": [
      "count    768.000000\n",
      "mean      20.536458\n",
      "std       15.952218\n",
      "min        0.000000\n",
      "5%         0.000000\n",
      "10%        0.000000\n",
      "20%        0.000000\n",
      "30%        8.200000\n",
      "40%       18.000000\n",
      "50%       23.000000\n",
      "60%       27.000000\n",
      "70%       31.000000\n",
      "80%       35.000000\n",
      "90%       40.000000\n",
      "95%       44.000000\n",
      "99%       51.330000\n",
      "max       99.000000\n",
      "Name: SkinThickness, dtype: float64\n",
      "\n",
      "##########################################\n"
     ]
    },
    {
     "data": {
      "image/png": "[encoded data removed]",
      "text/plain": [
       "<Figure size 640x480 with 1 Axes>"
      ]
     },
     "metadata": {},
     "output_type": "display_data"
    },
    {
     "name": "stdout",
     "output_type": "stream",
     "text": [
      "count    768.000000\n",
      "mean      79.799479\n",
      "std      115.244002\n",
      "min        0.000000\n",
      "5%         0.000000\n",
      "10%        0.000000\n",
      "20%        0.000000\n",
      "30%        0.000000\n",
      "40%        0.000000\n",
      "50%       30.500000\n",
      "60%       72.200000\n",
      "70%      106.000000\n",
      "80%      150.000000\n",
      "90%      210.000000\n",
      "95%      293.000000\n",
      "99%      519.900000\n",
      "max      846.000000\n",
      "Name: Insulin, dtype: float64\n",
      "\n",
      "##########################################\n"
     ]
    },
    {
     "data": {
      "image/png": "[encoded data removed]",
      "text/plain": [
       "<Figure size 640x480 with 1 Axes>"
      ]
     },
     "metadata": {},
     "output_type": "display_data"
    },
    {
     "name": "stdout",
     "output_type": "stream",
     "text": [
      "count    768.000000\n",
      "mean      31.992578\n",
      "std        7.884160\n",
      "min        0.000000\n",
      "5%        21.800000\n",
      "10%       23.600000\n",
      "20%       25.900000\n",
      "30%       28.200000\n",
      "40%       30.100000\n",
      "50%       32.000000\n",
      "60%       33.700000\n",
      "70%       35.490000\n",
      "80%       37.800000\n",
      "90%       41.500000\n",
      "95%       44.395000\n",
      "99%       50.759000\n",
      "max       67.100000\n",
      "Name: BMI, dtype: float64\n",
      "\n",
      "##########################################\n"
     ]
    },
    {
     "data": {
      "image/png": "[encoded data removed]",
      "text/plain": [
       "<Figure size 640x480 with 1 Axes>"
      ]
     },
     "metadata": {},
     "output_type": "display_data"
    },
    {
     "name": "stdout",
     "output_type": "stream",
     "text": [
      "count    768.000000\n",
      "mean       0.471876\n",
      "std        0.331329\n",
      "min        0.078000\n",
      "5%         0.140350\n",
      "10%        0.165000\n",
      "20%        0.219400\n",
      "30%        0.259000\n",
      "40%        0.302800\n",
      "50%        0.372500\n",
      "60%        0.454200\n",
      "70%        0.563700\n",
      "80%        0.687000\n",
      "90%        0.878600\n",
      "95%        1.132850\n",
      "99%        1.698330\n",
      "max        2.420000\n",
      "Name: DiabetesPedigreeFunction, dtype: float64\n",
      "\n",
      "##########################################\n"
     ]
    },
    {
     "data": {
      "image/png": "[encoded data removed]",
      "text/plain": [
       "<Figure size 640x480 with 1 Axes>"
      ]
     },
     "metadata": {},
     "output_type": "display_data"
    },
    {
     "name": "stdout",
     "output_type": "stream",
     "text": [
      "count    768.000000\n",
      "mean      33.240885\n",
      "std       11.760232\n",
      "min       21.000000\n",
      "5%        21.000000\n",
      "10%       22.000000\n",
      "20%       23.000000\n",
      "30%       25.000000\n",
      "40%       27.000000\n",
      "50%       29.000000\n",
      "60%       33.000000\n",
      "70%       38.000000\n",
      "80%       42.600000\n",
      "90%       51.000000\n",
      "95%       58.000000\n",
      "99%       67.000000\n",
      "max       81.000000\n",
      "Name: Age, dtype: float64\n",
      "\n",
      "##########################################\n"
     ]
    },
    {
     "data": {
      "image/png": "[encoded data removed]",
      "text/plain": [
       "<Figure size 640x480 with 1 Axes>"
      ]
     },
     "metadata": {},
     "output_type": "display_data"
    }
   ],
   "source": [
    "def num_summary(dataframe, numerical_col, plot=False):\n",
    "    quantiles = [0.05, 0.10, 0.20, 0.30, 0.40, 0.50, 0.60, 0.70, 0.80, 0.90, 0.95, 0.99]\n",
    "    print(dataframe[numerical_col].describe(quantiles).T)\n",
    "    print(\"\\n##########################################\")\n",
    "    if plot:\n",
    "        dataframe[numerical_col].hist()\n",
    "        plt.xlabel(numerical_col)\n",
    "        plt.title(numerical_col)\n",
    "        plt.show(block=True)\n",
    "\n",
    "for col in num_cols:\n",
    "    num_summary(df, col, plot=True)"
   ]
  },
  {
   "cell_type": "markdown",
   "id": "cf93203ac183a8ed",
   "metadata": {
    "collapsed": false
   },
   "source": [
    "- When we examine the graphs of numerical variables, we see that the value 0 is dominant in some graphs. This increases the possibility of filling missing values with zero. (BMI, Insulin, BloodPressure, Glucose, SkinThickness)"
   ]
  },
  {
   "cell_type": "markdown",
   "id": "f7c930f07e23309d",
   "metadata": {
    "collapsed": false
   },
   "source": [
    "#### Analysis of Correlation"
   ]
  },
  {
   "cell_type": "code",
   "execution_count": 147,
   "id": "b242e4fab8fd21b0",
   "metadata": {
    "ExecuteTime": {
     "end_time": "2023-12-19T11:11:22.360868525Z",
     "start_time": "2023-12-19T11:11:22.092093345Z"
    },
    "collapsed": false
   },
   "outputs": [
    {
     "data": {
      "image/png": "[encoded data removed]",
      "text/plain": [
       "<Figure size 1000x800 with 2 Axes>"
      ]
     },
     "metadata": {},
     "output_type": "display_data"
    }
   ],
   "source": [
    "def correlation(df,cols):\n",
    "    fig = plt.gcf()\n",
    "    fig.set_size_inches(10, 8)\n",
    "    plt.xticks(fontsize=10)\n",
    "    plt.yticks(fontsize=10)\n",
    "    fig = sns.heatmap(df[cols].corr(), annot=True, linewidths=0.5, annot_kws={'size': 8}, linecolor='w', cmap='RdBu')\n",
    "    plt.show()\n",
    "\n",
    "correlation(df, df.columns)\n",
    "\n"
   ]
  },
  {
   "cell_type": "markdown",
   "id": "85570e2a14a39bdb",
   "metadata": {
    "collapsed": false
   },
   "source": [
    "- There appears to be a positive moderate relationship between age and pregnancy. We expect the number of pregnancies to increase as age increases.\n"
   ]
  },
  {
   "cell_type": "markdown",
   "id": "8bcfa22b52571caf",
   "metadata": {
    "collapsed": false
   },
   "source": [
    "#### Analysis of Target Variable with Numerical Variables"
   ]
  },
  {
   "cell_type": "code",
   "execution_count": 148,
   "id": "d18a04cc9e041b9a",
   "metadata": {
    "ExecuteTime": {
     "end_time": "2023-12-19T11:11:22.368120447Z",
     "start_time": "2023-12-19T11:11:22.364396013Z"
    },
    "collapsed": false
   },
   "outputs": [
    {
     "name": "stdout",
     "output_type": "stream",
     "text": [
      "         TARGET_MEAN\n",
      "Outcome             \n",
      "0                0.0\n",
      "1                1.0\n"
     ]
    }
   ],
   "source": [
    "def target_summary_with_cat(dataframe, target, categorical_col):\n",
    "    print(pd.DataFrame({\"TARGET_MEAN\": dataframe.groupby(categorical_col)[target].mean()}), end=\"\\n\\n\\n\")\n",
    "    \n",
    "for col in cat_cols:\n",
    "    target_summary_with_cat(df, \"Outcome\", col)"
   ]
  },
  {
   "cell_type": "code",
   "execution_count": 149,
   "id": "90cd9e515fa00a24",
   "metadata": {
    "ExecuteTime": {
     "end_time": "2023-12-19T11:11:22.512279042Z",
     "start_time": "2023-12-19T11:11:22.367809368Z"
    },
    "collapsed": false
   },
   "outputs": [
    {
     "name": "stdout",
     "output_type": "stream",
     "text": [
      "         Pregnancies\n",
      "Outcome             \n",
      "0           3.298000\n",
      "1           4.865672\n",
      "\n",
      "\n",
      "            Glucose\n",
      "Outcome            \n",
      "0        109.980000\n",
      "1        141.257463\n",
      "\n",
      "\n",
      "         BloodPressure\n",
      "Outcome               \n",
      "0            68.184000\n",
      "1            70.824627\n",
      "\n",
      "\n",
      "         SkinThickness\n",
      "Outcome               \n",
      "0            19.664000\n",
      "1            22.164179\n",
      "\n",
      "\n",
      "            Insulin\n",
      "Outcome            \n",
      "0         68.792000\n",
      "1        100.335821\n",
      "\n",
      "\n",
      "               BMI\n",
      "Outcome           \n",
      "0        30.304200\n",
      "1        35.142537\n",
      "\n",
      "\n",
      "         DiabetesPedigreeFunction\n",
      "Outcome                          \n",
      "0                        0.429734\n",
      "1                        0.550500\n",
      "\n",
      "\n",
      "               Age\n",
      "Outcome           \n",
      "0        31.190000\n",
      "1        37.067164\n"
     ]
    }
   ],
   "source": [
    "def target_summary_with_num(dataframe, target, numerical_col):\n",
    "    print(dataframe.groupby(target).agg({numerical_col: \"mean\"}), end=\"\\n\\n\\n\")\n",
    "\n",
    "for col in num_cols:\n",
    "    target_summary_with_num(df, \"Outcome\", col)"
   ]
  },
  {
   "cell_type": "markdown",
   "id": "ba5fc8b904e8ebf8",
   "metadata": {
    "collapsed": false
   },
   "source": [
    "If we examine the relationship between the target variable and numerical variables:\n",
    "- The average age of people with diabetes is higher than those without diabetes.\n",
    "- The average BMI of people with diabetes is higher than those without diabetes.\n",
    "- Insulin and Glcucos averages are higher in people with diabetes, as expected.\n",
    "- BloodPressure and SkinThickness are higher in people with diabetes, as expected."
   ]
  },
  {
   "cell_type": "markdown",
   "id": "eadb256e6fe6f8e",
   "metadata": {
    "collapsed": false
   },
   "source": [
    "#### Outliers"
   ]
  },
  {
   "cell_type": "code",
   "execution_count": 150,
   "id": "41c2db4676720887",
   "metadata": {
    "ExecuteTime": {
     "end_time": "2023-12-19T11:11:22.549790932Z",
     "start_time": "2023-12-19T11:11:22.420158622Z"
    },
    "collapsed": false
   },
   "outputs": [
    {
     "name": "stdout",
     "output_type": "stream",
     "text": [
      "Pregnancies --> True\n",
      "Glucose --> True\n",
      "BloodPressure --> True\n",
      "SkinThickness --> True\n",
      "Insulin --> True\n",
      "BMI --> True\n",
      "DiabetesPedigreeFunction --> True\n",
      "Age --> True\n"
     ]
    }
   ],
   "source": [
    "def outlier_thresholds(dataframe, col_name, q1=0.25, q3=0.75):\n",
    "    quartile1 = dataframe[col_name].quantile(q1)\n",
    "    quartile3 = dataframe[col_name].quantile(q3)\n",
    "    interquantile_range = quartile3 - quartile1\n",
    "    up_limit = quartile3 + 1.5 * interquantile_range\n",
    "    low_limit = quartile1 - 1.5 * interquantile_range\n",
    "    return low_limit, up_limit\n",
    "\n",
    "def replace_with_thresholds(dataframe, variable, q1=0.05, q3=0.95):\n",
    "    low_limit, up_limit = outlier_thresholds(dataframe, variable, q1=0.05, q3=0.95)\n",
    "    dataframe.loc[(dataframe[variable] < low_limit), variable] = low_limit\n",
    "    dataframe.loc[(dataframe[variable] > up_limit), variable] = up_limit\n",
    "    \n",
    "def check_outlier(dataframe, col_name):\n",
    "    low_limit, up_limit = outlier_thresholds(dataframe, col_name)\n",
    "    if dataframe[(dataframe[col_name] > up_limit) | (dataframe[col_name] < low_limit)].any(axis=None):\n",
    "        return True\n",
    "    else:\n",
    "        return False\n",
    "\n",
    "def one_hot_encoder(dataframe, categorical_cols, drop_first=False):\n",
    "    dataframe = pd.get_dummies(dataframe, columns=categorical_cols, drop_first=drop_first)\n",
    "    return dataframe\n",
    "\n",
    "for col in num_cols:\n",
    "    print(col,\"-->\", check_outlier(df, col))\n"
   ]
  },
  {
   "cell_type": "markdown",
   "id": "ce9d08213230aee0",
   "metadata": {
    "collapsed": false
   },
   "source": [
    "### 2. Data Preprocessing & Feature Engineering"
   ]
  },
  {
   "cell_type": "markdown",
   "id": "c1f693db5457c256",
   "metadata": {
    "collapsed": false
   },
   "source": [
    "#### Missing Values Analysis\n",
    "- It is known that variable values other than Pregnancies and Outcome cannot be 0 in a human.\n",
    "- Therefore, an action decision should be made regarding these values. Values that are 0 can be assigned NaN."
   ]
  },
  {
   "cell_type": "code",
   "execution_count": 151,
   "id": "69aa1a1d14562fb1",
   "metadata": {
    "ExecuteTime": {
     "end_time": "2023-12-19T11:11:22.552944873Z",
     "start_time": "2023-12-19T11:11:22.508825172Z"
    },
    "collapsed": false
   },
   "outputs": [
    {
     "data": {
      "text/plain": [
       "'zero_columns = [col for col in df.columns if (df[col].min() == 0 and col not in [\"Pregnancies\", \"Outcome\"])]\\n\\nprint(zero_columns)\\n\\nfor col in zero_columns:\\n    df[col] = np.where(df[col] == 0, np.nan, df[col])\\n\\n# missing values\\ndf.isnull().sum()'"
      ]
     },
     "execution_count": 151,
     "metadata": {},
     "output_type": "execute_result"
    }
   ],
   "source": [
    "\"\"\"zero_columns = [col for col in df.columns if (df[col].min() == 0 and col not in [\"Pregnancies\", \"Outcome\"])]\n",
    "\n",
    "print(zero_columns)\n",
    "\n",
    "for col in zero_columns:\n",
    "    df[col] = np.where(df[col] == 0, np.nan, df[col])\n",
    "\n",
    "# missing values\n",
    "df.isnull().sum()\"\"\""
   ]
  },
  {
   "cell_type": "code",
   "execution_count": 152,
   "id": "c5c7c8a1f7d7aaaf",
   "metadata": {
    "ExecuteTime": {
     "end_time": "2023-12-19T11:11:22.610089887Z",
     "start_time": "2023-12-19T11:11:22.548770283Z"
    },
    "collapsed": false
   },
   "outputs": [
    {
     "data": {
      "text/plain": [
       "'def missing_values_table(dataframe, na_name=False):\\n    na_columns = [col for col in dataframe.columns if dataframe[col].isnull().sum() > 0]\\n    n_miss = dataframe[na_columns].isnull().sum().sort_values(ascending=False) \\n    ratio = (dataframe[na_columns].isnull().sum() / dataframe.shape[0] * 100).sort_values(ascending=False) #\\n    missing_df = pd.concat([n_miss, np.round(ratio, 2)], axis=1, keys=[\\'n_miss\\', \\'ratio\\'])\\n    print(missing_df, end=\"\\n\")\\n    if na_name:\\n        return na_columns\\n\\nna_columns = missing_values_table(df, na_name=True)'"
      ]
     },
     "execution_count": 152,
     "metadata": {},
     "output_type": "execute_result"
    }
   ],
   "source": [
    "\"\"\"def missing_values_table(dataframe, na_name=False):\n",
    "    na_columns = [col for col in dataframe.columns if dataframe[col].isnull().sum() > 0]\n",
    "    n_miss = dataframe[na_columns].isnull().sum().sort_values(ascending=False) \n",
    "    ratio = (dataframe[na_columns].isnull().sum() / dataframe.shape[0] * 100).sort_values(ascending=False) #\n",
    "    missing_df = pd.concat([n_miss, np.round(ratio, 2)], axis=1, keys=['n_miss', 'ratio'])\n",
    "    print(missing_df, end=\"\\n\")\n",
    "    if na_name:\n",
    "        return na_columns\n",
    "\n",
    "na_columns = missing_values_table(df, na_name=True)\"\"\""
   ]
  },
  {
   "cell_type": "markdown",
   "id": "9d5e7bbe3c2cfac4",
   "metadata": {
    "collapsed": false
   },
   "source": [
    "#### Missing Values Analysis with Target Variable"
   ]
  },
  {
   "cell_type": "code",
   "execution_count": 153,
   "id": "c9a3526f7c2a3793",
   "metadata": {
    "ExecuteTime": {
     "end_time": "2023-12-19T11:11:22.651811561Z",
     "start_time": "2023-12-19T11:11:22.596750153Z"
    },
    "collapsed": false
   },
   "outputs": [
    {
     "data": {
      "text/plain": [
       "'def missing_vs_target(dataframe, target, na_columns):\\n    temp_df = dataframe.copy()\\n    for col in na_columns:\\n        temp_df[col + \\'_NA_FLAG\\'] = np.where(temp_df[col].isnull(), 1, 0)\\n    na_flags = temp_df.loc[:, temp_df.columns.str.contains(\"_NA_\")].columns\\n    for col in na_flags:\\n        print(pd.DataFrame({\"TARGET_MEAN\": temp_df.groupby(col)[target].mean(),\\n                            \"Count\": temp_df.groupby(col)[target].count()}), end=\"\\n\\n\\n\")\\n\\n\\nmissing_vs_target(df, \"Outcome\", na_columns)'"
      ]
     },
     "execution_count": 153,
     "metadata": {},
     "output_type": "execute_result"
    }
   ],
   "source": [
    "\"\"\"def missing_vs_target(dataframe, target, na_columns):\n",
    "    temp_df = dataframe.copy()\n",
    "    for col in na_columns:\n",
    "        temp_df[col + '_NA_FLAG'] = np.where(temp_df[col].isnull(), 1, 0)\n",
    "    na_flags = temp_df.loc[:, temp_df.columns.str.contains(\"_NA_\")].columns\n",
    "    for col in na_flags:\n",
    "        print(pd.DataFrame({\"TARGET_MEAN\": temp_df.groupby(col)[target].mean(),\n",
    "                            \"Count\": temp_df.groupby(col)[target].count()}), end=\"\\n\\n\\n\")\n",
    "\n",
    "\n",
    "missing_vs_target(df, \"Outcome\", na_columns)\"\"\""
   ]
  },
  {
   "cell_type": "code",
   "execution_count": 154,
   "id": "1373442f39e6802c",
   "metadata": {
    "ExecuteTime": {
     "end_time": "2023-12-19T11:11:22.973857867Z",
     "start_time": "2023-12-19T11:11:22.640746347Z"
    },
    "collapsed": false
   },
   "outputs": [
    {
     "data": {
      "image/png": "[encoded data removed]",
      "text/plain": [
       "<Figure size 1000x800 with 2 Axes>"
      ]
     },
     "metadata": {},
     "output_type": "display_data"
    }
   ],
   "source": [
    "correlation(df, df.columns)"
   ]
  },
  {
   "cell_type": "markdown",
   "id": "616e15b876a1d97e",
   "metadata": {
    "collapsed": false
   },
   "source": [
    "### Feature Extraction"
   ]
  },
  {
   "cell_type": "code",
   "execution_count": 155,
   "id": "a6f6038e760f88e4",
   "metadata": {
    "ExecuteTime": {
     "end_time": "2023-12-19T11:11:22.987110206Z",
     "start_time": "2023-12-19T11:11:22.984875746Z"
    },
    "collapsed": false
   },
   "outputs": [],
   "source": [
    "def diabetes_data_prep(dataframe):\n",
    "    dataframe.columns = [col.upper() for col in dataframe.columns]\n",
    "\n",
    "    # Creation of new variables.\n",
    "    \n",
    "    # Age : Categorizing the age variable and creating a new age variable.\n",
    "    dataframe.loc[(dataframe['AGE'] < 35), \"NEW_AGE_CAT\"] = 'young'\n",
    "    dataframe.loc[(dataframe['AGE'] >= 35) & (dataframe['AGE'] <= 55), \"NEW_AGE_CAT\"] = 'middleage'\n",
    "    dataframe.loc[(dataframe['AGE'] > 55), \"NEW_AGE_CAT\"] = 'old'\n",
    "    \n",
    "    # Glucose : Convert glucose value to a categorical variable\n",
    "    dataframe['NEW_GLUCOSE_CAT'] = pd.cut(x=dataframe['GLUCOSE'], bins=[-1, 139, 200, 300], labels=[\"normal\", \"prediabetes\", \"diabetes\"])\n",
    "    \n",
    "    # BMI below 18.5 is underweight, between 18.5 and 24.9 is healthy, between 24.9 and 29.9 is overweight and above 30 is obese\n",
    "    dataframe['NEW_BMI_RANGE'] = pd.cut(x=dataframe['BMI'], bins=[-1, 18.5, 24.9, 29.9, 100],\n",
    "                                 labels=[\"underweight\", \"healthy\", \"overweight\", \"obese\"])\n",
    "    \n",
    "    # BloodPressure\n",
    "    dataframe['NEW_BLOODPRESSURE'] = pd.cut(x=dataframe['BLOODPRESSURE'], bins=[-1, 79, 89, 123], labels=[\"normal\", \"hs1\", \"hs2\"])\n",
    "\n",
    "    # # Yaş ve beden kitle indeksini bir arada düşünerek kategorik değişken oluşturma\n",
    "    dataframe.loc[(dataframe['AGE'] < 35) & (dataframe['BMI'] < 18.5), \"NEW_AGE_BMI_CAT\"] = 'young_underweight'\n",
    "    dataframe.loc[(dataframe['AGE'] < 35) & (dataframe['BMI'] >= 18.5) & (dataframe['BMI'] < 24.9), \"NEW_AGE_BMI_CAT\"] = 'young_healthy'\n",
    "    dataframe.loc[(dataframe['AGE'] < 35) & (dataframe['BMI'] >= 24.9) & (dataframe['BMI'] < 29.9), \"NEW_AGE_BMI_CAT\"] = 'young_overweight'\n",
    "    dataframe.loc[(dataframe['AGE'] < 35) & (dataframe['BMI'] >= 29.9), \"NEW_AGE_BMI_CAT\"] = 'young_obese'\n",
    "    \n",
    "    dataframe.loc[(dataframe['AGE'] >= 35) & (dataframe['AGE'] <= 55) & (dataframe['BMI'] < 18.5), \"NEW_AGE_BMI_CAT\"] = 'middleage_underweight'\n",
    "    dataframe.loc[(dataframe['AGE'] >= 35) & (dataframe['AGE'] <= 55) & (dataframe['BMI'] >= 18.5) & (dataframe['BMI'] < 24.9), \"NEW_AGE_BMI_CAT\"] = 'middleage_healthy'\n",
    "    dataframe.loc[(dataframe['AGE'] >= 35) & (dataframe['AGE'] <= 55) & (dataframe['BMI'] >= 24.9) & (dataframe['BMI'] < 29.9), \"NEW_AGE_BMI_CAT\"] = 'middleage_overweight'\n",
    "    dataframe.loc[(dataframe['AGE'] >= 35) & (dataframe['AGE'] <= 55) & (dataframe['BMI'] >= 29.9), \"NEW_AGE_BMI_CAT\"] = 'middleage_obese'\n",
    "    \n",
    "    dataframe.loc[(dataframe['AGE'] > 55) & (dataframe['BMI'] < 18.5), \"NEW_AGE_BMI_CAT\"] = 'old_underweight'\n",
    "    dataframe.loc[(dataframe['AGE'] > 55) & (dataframe['BMI'] >= 18.5) & (dataframe['BMI'] < 24.9), \"NEW_AGE_BMI_CAT\"] = 'old_healthy'\n",
    "    dataframe.loc[(dataframe['AGE'] > 55) & (dataframe['BMI'] >= 24.9) & (dataframe['BMI'] < 29.9), \"NEW_AGE_BMI_CAT\"] = 'old_overweight'\n",
    "    dataframe.loc[(dataframe['AGE'] > 55) & (dataframe['BMI'] >= 29.9), \"NEW_AGE_BMI_CAT\"] = 'old_obese'\n",
    "    \n",
    "    # Yaş ve Glikoz değerlerini bir arada düşünerek kategorik değişken oluşturma\n",
    "    dataframe.loc[(dataframe['AGE'] < 35) & (dataframe['GLUCOSE'] < 139), \"NEW_AGE_GLUCOSE_CAT\"] = 'young_normal'\n",
    "    dataframe.loc[(dataframe['AGE'] < 35) & (dataframe['GLUCOSE'] >= 139) & (dataframe['GLUCOSE'] < 200), \"NEW_AGE_GLUCOSE_CAT\"] = 'young_prediabetes'\n",
    "    dataframe.loc[(dataframe['AGE'] < 35) & (dataframe['GLUCOSE'] >= 200), \"NEW_AGE_GLUCOSE_CAT\"] = 'young_diabetes'\n",
    "    \n",
    "    dataframe.loc[(dataframe['AGE'] >= 35) & (dataframe['AGE'] <= 55) & (dataframe['GLUCOSE'] < 139), \"NEW_AGE_GLUCOSE_CAT\"] = 'middleage_normal'\n",
    "    dataframe.loc[(dataframe['AGE'] >= 35) & (dataframe['AGE'] <= 55) & (dataframe['GLUCOSE'] >= 139) & (dataframe['GLUCOSE'] < 200), \"NEW_AGE_GLUCOSE_CAT\"] = 'middleage_prediabetes'\n",
    "    dataframe.loc[(dataframe['AGE'] >= 35) & (dataframe['AGE'] <= 55) & (dataframe['GLUCOSE'] >= 200), \"NEW_AGE_GLUCOSE_CAT\"] = 'middleage_diabetes'\n",
    "    \n",
    "    dataframe.loc[(dataframe['AGE'] > 55) & (dataframe['GLUCOSE'] < 139), \"NEW_AGE_GLUCOSE_CAT\"] = 'old_normal'\n",
    "    dataframe.loc[(dataframe['AGE'] > 55) & (dataframe['GLUCOSE'] >= 139) & (dataframe['GLUCOSE'] < 200), \"NEW_AGE_GLUCOSE_CAT\"] = 'old_prediabetes'\n",
    "    dataframe.loc[(dataframe['AGE'] > 55) & (dataframe['GLUCOSE'] >= 200), \"NEW_AGE_GLUCOSE_CAT\"] = 'old_diabetes'\n",
    "    \n",
    "\n",
    "    cat_cols, num_cols, cat_but_car = grab_col_names(dataframe, cat_th=5, car_th=20)\n",
    "    \n",
    "    cat_cols = [col for col in cat_cols if \"OUTCOME\" not in col]\n",
    "\n",
    "    df = one_hot_encoder(dataframe, cat_cols, drop_first=True)\n",
    "\n",
    "    df.columns = [col.upper() for col in df.columns]\n",
    "\n",
    "    cat_cols, num_cols, cat_but_car = grab_col_names(df, cat_th=5, car_th=20)\n",
    "\n",
    "    cat_cols = [col for col in cat_cols if \"OUTCOME\" not in col]\n",
    "\n",
    "    replace_with_thresholds(df, \"INSULIN\")\n",
    "\n",
    "    X_scaled = StandardScaler().fit_transform(df[num_cols])\n",
    "    df[num_cols] = pd.DataFrame(X_scaled, columns=df[num_cols].columns)\n",
    "\n",
    "    y = df[\"OUTCOME\"]\n",
    "    X = df.drop([\"OUTCOME\"], axis=1)\n",
    "\n",
    "    return X, y"
   ]
  },
  {
   "cell_type": "code",
   "execution_count": 156,
   "id": "6c216317e7b0debf",
   "metadata": {
    "ExecuteTime": {
     "end_time": "2023-12-19T11:11:23.144768301Z",
     "start_time": "2023-12-19T11:11:22.987718584Z"
    },
    "collapsed": false
   },
   "outputs": [
    {
     "name": "stdout",
     "output_type": "stream",
     "text": [
      "##################### Shape #####################\n",
      "(768, 9)\n",
      "\n",
      "##################### Info #####################\n",
      "<class 'pandas.core.frame.DataFrame'>\n",
      "RangeIndex: 768 entries, 0 to 767\n",
      "Data columns (total 9 columns):\n",
      " #   Column                    Non-Null Count  Dtype  \n",
      "---  ------                    --------------  -----  \n",
      " 0   Pregnancies               768 non-null    int64  \n",
      " 1   Glucose                   768 non-null    int64  \n",
      " 2   BloodPressure             768 non-null    int64  \n",
      " 3   SkinThickness             768 non-null    int64  \n",
      " 4   Insulin                   768 non-null    int64  \n",
      " 5   BMI                       768 non-null    float64\n",
      " 6   DiabetesPedigreeFunction  768 non-null    float64\n",
      " 7   Age                       768 non-null    int64  \n",
      " 8   Outcome                   768 non-null    int64  \n",
      "dtypes: float64(2), int64(7)\n",
      "memory usage: 54.1 KB\n",
      "None\n",
      "\n",
      "##################### Types #####################\n",
      "Pregnancies                   int64\n",
      "Glucose                       int64\n",
      "BloodPressure                 int64\n",
      "SkinThickness                 int64\n",
      "Insulin                       int64\n",
      "BMI                         float64\n",
      "DiabetesPedigreeFunction    float64\n",
      "Age                           int64\n",
      "Outcome                       int64\n",
      "dtype: object\n",
      "\n",
      "##################### Head #####################\n",
      "   Pregnancies  Glucose  BloodPressure  SkinThickness  Insulin   BMI  DiabetesPedigreeFunction  Age  Outcome\n",
      "0            6      148             72             35        0  33.6                     0.627   50        1\n",
      "1            1       85             66             29        0  26.6                     0.351   31        0\n",
      "2            8      183             64              0        0  23.3                     0.672   32        1\n",
      "3            1       89             66             23       94  28.1                     0.167   21        0\n",
      "4            0      137             40             35      168  43.1                     2.288   33        1\n",
      "\n",
      "##################### Tail #####################\n",
      "     Pregnancies  Glucose  BloodPressure  SkinThickness  Insulin   BMI  DiabetesPedigreeFunction  Age  Outcome\n",
      "763           10      101             76             48      180  32.9                     0.171   63        0\n",
      "764            2      122             70             27        0  36.8                     0.340   27        0\n",
      "765            5      121             72             23      112  26.2                     0.245   30        0\n",
      "766            1      126             60              0        0  30.1                     0.349   47        1\n",
      "767            1       93             70             31        0  30.4                     0.315   23        0\n",
      "\n",
      "################ Null Values ##################\n",
      "False\n",
      "\n",
      "##################### NA #####################\n",
      "Pregnancies                 0\n",
      "Glucose                     0\n",
      "BloodPressure               0\n",
      "SkinThickness               0\n",
      "Insulin                     0\n",
      "BMI                         0\n",
      "DiabetesPedigreeFunction    0\n",
      "Age                         0\n",
      "Outcome                     0\n",
      "dtype: int64\n",
      "\n",
      "##################### Not in 0 for NA #####################\n",
      "Series([], dtype: int64)\n",
      "\n",
      "##################### Quantiles #####################\n",
      "                          count        mean         std     min      0%        5%       50%        95%        99%    100%     max\n",
      "Pregnancies               768.0    3.845052    3.369578   0.000   0.000   0.00000    3.0000   10.00000   13.00000   17.00   17.00\n",
      "Glucose                   768.0  120.894531   31.972618   0.000   0.000  79.00000  117.0000  181.00000  196.00000  199.00  199.00\n",
      "BloodPressure             768.0   69.105469   19.355807   0.000   0.000  38.70000   72.0000   90.00000  106.00000  122.00  122.00\n",
      "SkinThickness             768.0   20.536458   15.952218   0.000   0.000   0.00000   23.0000   44.00000   51.33000   99.00   99.00\n",
      "Insulin                   768.0   79.799479  115.244002   0.000   0.000   0.00000   30.5000  293.00000  519.90000  846.00  846.00\n",
      "BMI                       768.0   31.992578    7.884160   0.000   0.000  21.80000   32.0000   44.39500   50.75900   67.10   67.10\n",
      "DiabetesPedigreeFunction  768.0    0.471876    0.331329   0.078   0.078   0.14035    0.3725    1.13285    1.69833    2.42    2.42\n",
      "Age                       768.0   33.240885   11.760232  21.000  21.000  21.00000   29.0000   58.00000   67.00000   81.00   81.00\n",
      "Outcome                   768.0    0.348958    0.476951   0.000   0.000   0.00000    0.0000    1.00000    1.00000    1.00    1.00\n",
      "\n",
      "##################### Value Counts #####################\n",
      "[Outcome\n",
      "0    500\n",
      "1    268\n",
      "Name: count, dtype: int64]\n"
     ]
    }
   ],
   "source": [
    "check_df(df)"
   ]
  },
  {
   "cell_type": "code",
   "execution_count": 157,
   "id": "b52950faf6569ce9",
   "metadata": {
    "ExecuteTime": {
     "end_time": "2023-12-19T11:11:23.170926346Z",
     "start_time": "2023-12-19T11:11:23.080890204Z"
    },
    "collapsed": false
   },
   "outputs": [
    {
     "name": "stdout",
     "output_type": "stream",
     "text": [
      "Observations: 768\n",
      "Variables: 15\n",
      "cat_cols: 7\n",
      "num_cols: 8\n",
      "cat_but_car: 0\n",
      "num_but_cat: 1\n",
      "Observations: 768\n",
      "Variables: 34\n",
      "cat_cols: 26\n",
      "num_cols: 8\n",
      "cat_but_car: 0\n",
      "num_but_cat: 1\n"
     ]
    }
   ],
   "source": [
    "X, y = diabetes_data_prep(df)"
   ]
  },
  {
   "cell_type": "code",
   "execution_count": 158,
   "id": "118dc23714b2524",
   "metadata": {
    "ExecuteTime": {
     "end_time": "2023-12-19T11:11:23.284550733Z",
     "start_time": "2023-12-19T11:11:23.168751509Z"
    },
    "collapsed": false
   },
   "outputs": [
    {
     "name": "stdout",
     "output_type": "stream",
     "text": [
      "##################### Shape #####################\n",
      "(768, 33)\n",
      "\n",
      "##################### Info #####################\n",
      "<class 'pandas.core.frame.DataFrame'>\n",
      "RangeIndex: 768 entries, 0 to 767\n",
      "Data columns (total 33 columns):\n",
      " #   Column                                     Non-Null Count  Dtype  \n",
      "---  ------                                     --------------  -----  \n",
      " 0   PREGNANCIES                                768 non-null    float64\n",
      " 1   GLUCOSE                                    768 non-null    float64\n",
      " 2   BLOODPRESSURE                              768 non-null    float64\n",
      " 3   SKINTHICKNESS                              768 non-null    float64\n",
      " 4   INSULIN                                    768 non-null    float64\n",
      " 5   BMI                                        768 non-null    float64\n",
      " 6   DIABETESPEDIGREEFUNCTION                   768 non-null    float64\n",
      " 7   AGE                                        768 non-null    float64\n",
      " 8   NEW_AGE_CAT_OLD                            768 non-null    bool   \n",
      " 9   NEW_AGE_CAT_YOUNG                          768 non-null    bool   \n",
      " 10  NEW_GLUCOSE_CAT_PREDIABETES                768 non-null    bool   \n",
      " 11  NEW_GLUCOSE_CAT_DIABETES                   768 non-null    bool   \n",
      " 12  NEW_BMI_RANGE_HEALTHY                      768 non-null    bool   \n",
      " 13  NEW_BMI_RANGE_OVERWEIGHT                   768 non-null    bool   \n",
      " 14  NEW_BMI_RANGE_OBESE                        768 non-null    bool   \n",
      " 15  NEW_BLOODPRESSURE_HS1                      768 non-null    bool   \n",
      " 16  NEW_BLOODPRESSURE_HS2                      768 non-null    bool   \n",
      " 17  NEW_AGE_BMI_CAT_MIDDLEAGE_OBESE            768 non-null    bool   \n",
      " 18  NEW_AGE_BMI_CAT_MIDDLEAGE_OVERWEIGHT       768 non-null    bool   \n",
      " 19  NEW_AGE_BMI_CAT_MIDDLEAGE_UNDERWEIGHT      768 non-null    bool   \n",
      " 20  NEW_AGE_BMI_CAT_OLD_HEALTHY                768 non-null    bool   \n",
      " 21  NEW_AGE_BMI_CAT_OLD_OBESE                  768 non-null    bool   \n",
      " 22  NEW_AGE_BMI_CAT_OLD_OVERWEIGHT             768 non-null    bool   \n",
      " 23  NEW_AGE_BMI_CAT_OLD_UNDERWEIGHT            768 non-null    bool   \n",
      " 24  NEW_AGE_BMI_CAT_YOUNG_HEALTHY              768 non-null    bool   \n",
      " 25  NEW_AGE_BMI_CAT_YOUNG_OBESE                768 non-null    bool   \n",
      " 26  NEW_AGE_BMI_CAT_YOUNG_OVERWEIGHT           768 non-null    bool   \n",
      " 27  NEW_AGE_BMI_CAT_YOUNG_UNDERWEIGHT          768 non-null    bool   \n",
      " 28  NEW_AGE_GLUCOSE_CAT_MIDDLEAGE_PREDIABETES  768 non-null    bool   \n",
      " 29  NEW_AGE_GLUCOSE_CAT_OLD_NORMAL             768 non-null    bool   \n",
      " 30  NEW_AGE_GLUCOSE_CAT_OLD_PREDIABETES        768 non-null    bool   \n",
      " 31  NEW_AGE_GLUCOSE_CAT_YOUNG_NORMAL           768 non-null    bool   \n",
      " 32  NEW_AGE_GLUCOSE_CAT_YOUNG_PREDIABETES      768 non-null    bool   \n",
      "dtypes: bool(25), float64(8)\n",
      "memory usage: 66.9 KB\n",
      "None\n",
      "\n",
      "##################### Types #####################\n",
      "PREGNANCIES                                  float64\n",
      "GLUCOSE                                      float64\n",
      "BLOODPRESSURE                                float64\n",
      "SKINTHICKNESS                                float64\n",
      "INSULIN                                      float64\n",
      "BMI                                          float64\n",
      "DIABETESPEDIGREEFUNCTION                     float64\n",
      "AGE                                          float64\n",
      "NEW_AGE_CAT_OLD                                 bool\n",
      "NEW_AGE_CAT_YOUNG                               bool\n",
      "NEW_GLUCOSE_CAT_PREDIABETES                     bool\n",
      "NEW_GLUCOSE_CAT_DIABETES                        bool\n",
      "NEW_BMI_RANGE_HEALTHY                           bool\n",
      "NEW_BMI_RANGE_OVERWEIGHT                        bool\n",
      "NEW_BMI_RANGE_OBESE                             bool\n",
      "NEW_BLOODPRESSURE_HS1                           bool\n",
      "NEW_BLOODPRESSURE_HS2                           bool\n",
      "NEW_AGE_BMI_CAT_MIDDLEAGE_OBESE                 bool\n",
      "NEW_AGE_BMI_CAT_MIDDLEAGE_OVERWEIGHT            bool\n",
      "NEW_AGE_BMI_CAT_MIDDLEAGE_UNDERWEIGHT           bool\n",
      "NEW_AGE_BMI_CAT_OLD_HEALTHY                     bool\n",
      "NEW_AGE_BMI_CAT_OLD_OBESE                       bool\n",
      "NEW_AGE_BMI_CAT_OLD_OVERWEIGHT                  bool\n",
      "NEW_AGE_BMI_CAT_OLD_UNDERWEIGHT                 bool\n",
      "NEW_AGE_BMI_CAT_YOUNG_HEALTHY                   bool\n",
      "NEW_AGE_BMI_CAT_YOUNG_OBESE                     bool\n",
      "NEW_AGE_BMI_CAT_YOUNG_OVERWEIGHT                bool\n",
      "NEW_AGE_BMI_CAT_YOUNG_UNDERWEIGHT               bool\n",
      "NEW_AGE_GLUCOSE_CAT_MIDDLEAGE_PREDIABETES       bool\n",
      "NEW_AGE_GLUCOSE_CAT_OLD_NORMAL                  bool\n",
      "NEW_AGE_GLUCOSE_CAT_OLD_PREDIABETES             bool\n",
      "NEW_AGE_GLUCOSE_CAT_YOUNG_NORMAL                bool\n",
      "NEW_AGE_GLUCOSE_CAT_YOUNG_PREDIABETES           bool\n",
      "dtype: object\n",
      "\n",
      "##################### Head #####################\n",
      "   PREGNANCIES   GLUCOSE  BLOODPRESSURE  SKINTHICKNESS   INSULIN       BMI  DIABETESPEDIGREEFUNCTION       AGE  NEW_AGE_CAT_OLD  NEW_AGE_CAT_YOUNG  NEW_GLUCOSE_CAT_PREDIABETES  NEW_GLUCOSE_CAT_DIABETES  NEW_BMI_RANGE_HEALTHY  NEW_BMI_RANGE_OVERWEIGHT  NEW_BMI_RANGE_OBESE  NEW_BLOODPRESSURE_HS1  NEW_BLOODPRESSURE_HS2  NEW_AGE_BMI_CAT_MIDDLEAGE_OBESE  NEW_AGE_BMI_CAT_MIDDLEAGE_OVERWEIGHT  NEW_AGE_BMI_CAT_MIDDLEAGE_UNDERWEIGHT  NEW_AGE_BMI_CAT_OLD_HEALTHY  NEW_AGE_BMI_CAT_OLD_OBESE  \\\n",
      "0     0.639947  0.848324       0.149641       0.907270 -0.697537  0.204013                  0.468492  1.425995            False              False                         True                     False                  False                     False                 True                  False                  False                             True                                 False                                  False                        False                      False   \n",
      "1    -0.844885 -1.123396      -0.160546       0.530902 -0.697537 -0.684422                 -0.365061 -0.190672            False               True                        False                     False                  False                      True                False                  False                  False                            False                                 False                                  False                        False                      False   \n",
      "2     1.233880  1.943724      -0.263941      -1.288212 -0.697537 -1.103255                  0.604397 -0.105584            False               True                         True                     False                   True                     False                False                  False                  False                            False                                 False                                  False                        False                      False   \n",
      "3    -0.844885 -0.998208      -0.160546       0.154533  0.125808 -0.494043                 -0.920763 -1.041549            False               True                        False                     False                  False                      True                False                  False                  False                            False                                 False                                  False                        False                      False   \n",
      "4    -1.141852  0.504055      -1.504687       0.907270  0.773973  1.409746                  5.484909 -0.020496            False               True                        False                     False                  False                     False                 True                  False                  False                            False                                 False                                  False                        False                      False   \n",
      "\n",
      "   NEW_AGE_BMI_CAT_OLD_OVERWEIGHT  NEW_AGE_BMI_CAT_OLD_UNDERWEIGHT  NEW_AGE_BMI_CAT_YOUNG_HEALTHY  NEW_AGE_BMI_CAT_YOUNG_OBESE  NEW_AGE_BMI_CAT_YOUNG_OVERWEIGHT  NEW_AGE_BMI_CAT_YOUNG_UNDERWEIGHT  NEW_AGE_GLUCOSE_CAT_MIDDLEAGE_PREDIABETES  NEW_AGE_GLUCOSE_CAT_OLD_NORMAL  NEW_AGE_GLUCOSE_CAT_OLD_PREDIABETES  NEW_AGE_GLUCOSE_CAT_YOUNG_NORMAL  NEW_AGE_GLUCOSE_CAT_YOUNG_PREDIABETES  \n",
      "0                           False                            False                          False                        False                             False                              False                                       True                           False                                False                             False                                  False  \n",
      "1                           False                            False                          False                        False                              True                              False                                      False                           False                                False                              True                                  False  \n",
      "2                           False                            False                           True                        False                             False                              False                                      False                           False                                False                             False                                   True  \n",
      "3                           False                            False                          False                        False                              True                              False                                      False                           False                                False                              True                                  False  \n",
      "4                           False                            False                          False                         True                             False                              False                                      False                           False                                False                              True                                  False  \n",
      "\n",
      "##################### Tail #####################\n",
      "     PREGNANCIES   GLUCOSE  BLOODPRESSURE  SKINTHICKNESS   INSULIN       BMI  DIABETESPEDIGREEFUNCTION       AGE  NEW_AGE_CAT_OLD  NEW_AGE_CAT_YOUNG  NEW_GLUCOSE_CAT_PREDIABETES  NEW_GLUCOSE_CAT_DIABETES  NEW_BMI_RANGE_HEALTHY  NEW_BMI_RANGE_OVERWEIGHT  NEW_BMI_RANGE_OBESE  NEW_BLOODPRESSURE_HS1  NEW_BLOODPRESSURE_HS2  NEW_AGE_BMI_CAT_MIDDLEAGE_OBESE  NEW_AGE_BMI_CAT_MIDDLEAGE_OVERWEIGHT  NEW_AGE_BMI_CAT_MIDDLEAGE_UNDERWEIGHT  NEW_AGE_BMI_CAT_OLD_HEALTHY  NEW_AGE_BMI_CAT_OLD_OBESE  \\\n",
      "763     1.827813 -0.622642       0.356432       1.722735  0.879080  0.115169                 -0.908682  2.532136             True              False                        False                     False                  False                     False                 True                  False                  False                            False                                 False                                  False                        False                       True   \n",
      "764    -0.547919  0.034598       0.046245       0.405445 -0.697537  0.610154                 -0.398282 -0.531023            False               True                        False                     False                  False                     False                 True                  False                  False                            False                                 False                                  False                        False                      False   \n",
      "765     0.342981  0.003301       0.149641       0.154533  0.283469 -0.735190                 -0.685193 -0.275760            False               True                        False                     False                  False                      True                False                  False                  False                            False                                 False                                  False                        False                      False   \n",
      "766    -0.844885  0.159787      -0.470732      -1.288212 -0.697537 -0.240205                 -0.371101  1.170732            False              False                        False                     False                  False                     False                 True                  False                  False                             True                                 False                                  False                        False                      False   \n",
      "767    -0.844885 -0.873019       0.046245       0.656358 -0.697537 -0.202129                 -0.473785 -0.871374            False               True                        False                     False                  False                     False                 True                  False                  False                            False                                 False                                  False                        False                      False   \n",
      "\n",
      "     NEW_AGE_BMI_CAT_OLD_OVERWEIGHT  NEW_AGE_BMI_CAT_OLD_UNDERWEIGHT  NEW_AGE_BMI_CAT_YOUNG_HEALTHY  NEW_AGE_BMI_CAT_YOUNG_OBESE  NEW_AGE_BMI_CAT_YOUNG_OVERWEIGHT  NEW_AGE_BMI_CAT_YOUNG_UNDERWEIGHT  NEW_AGE_GLUCOSE_CAT_MIDDLEAGE_PREDIABETES  NEW_AGE_GLUCOSE_CAT_OLD_NORMAL  NEW_AGE_GLUCOSE_CAT_OLD_PREDIABETES  NEW_AGE_GLUCOSE_CAT_YOUNG_NORMAL  NEW_AGE_GLUCOSE_CAT_YOUNG_PREDIABETES  \n",
      "763                           False                            False                          False                        False                             False                              False                                      False                            True                                False                             False                                  False  \n",
      "764                           False                            False                          False                         True                             False                              False                                      False                           False                                False                              True                                  False  \n",
      "765                           False                            False                          False                        False                              True                              False                                      False                           False                                False                              True                                  False  \n",
      "766                           False                            False                          False                        False                             False                              False                                      False                           False                                False                             False                                  False  \n",
      "767                           False                            False                          False                         True                             False                              False                                      False                           False                                False                              True                                  False  \n",
      "\n",
      "################ Null Values ##################\n",
      "False\n",
      "\n",
      "##################### NA #####################\n",
      "PREGNANCIES                                  0\n",
      "GLUCOSE                                      0\n",
      "BLOODPRESSURE                                0\n",
      "SKINTHICKNESS                                0\n",
      "INSULIN                                      0\n",
      "BMI                                          0\n",
      "DIABETESPEDIGREEFUNCTION                     0\n",
      "AGE                                          0\n",
      "NEW_AGE_CAT_OLD                              0\n",
      "NEW_AGE_CAT_YOUNG                            0\n",
      "NEW_GLUCOSE_CAT_PREDIABETES                  0\n",
      "NEW_GLUCOSE_CAT_DIABETES                     0\n",
      "NEW_BMI_RANGE_HEALTHY                        0\n",
      "NEW_BMI_RANGE_OVERWEIGHT                     0\n",
      "NEW_BMI_RANGE_OBESE                          0\n",
      "NEW_BLOODPRESSURE_HS1                        0\n",
      "NEW_BLOODPRESSURE_HS2                        0\n",
      "NEW_AGE_BMI_CAT_MIDDLEAGE_OBESE              0\n",
      "NEW_AGE_BMI_CAT_MIDDLEAGE_OVERWEIGHT         0\n",
      "NEW_AGE_BMI_CAT_MIDDLEAGE_UNDERWEIGHT        0\n",
      "NEW_AGE_BMI_CAT_OLD_HEALTHY                  0\n",
      "NEW_AGE_BMI_CAT_OLD_OBESE                    0\n",
      "NEW_AGE_BMI_CAT_OLD_OVERWEIGHT               0\n",
      "NEW_AGE_BMI_CAT_OLD_UNDERWEIGHT              0\n",
      "NEW_AGE_BMI_CAT_YOUNG_HEALTHY                0\n",
      "NEW_AGE_BMI_CAT_YOUNG_OBESE                  0\n",
      "NEW_AGE_BMI_CAT_YOUNG_OVERWEIGHT             0\n",
      "NEW_AGE_BMI_CAT_YOUNG_UNDERWEIGHT            0\n",
      "NEW_AGE_GLUCOSE_CAT_MIDDLEAGE_PREDIABETES    0\n",
      "NEW_AGE_GLUCOSE_CAT_OLD_NORMAL               0\n",
      "NEW_AGE_GLUCOSE_CAT_OLD_PREDIABETES          0\n",
      "NEW_AGE_GLUCOSE_CAT_YOUNG_NORMAL             0\n",
      "NEW_AGE_GLUCOSE_CAT_YOUNG_PREDIABETES        0\n",
      "dtype: int64\n",
      "\n",
      "##################### Not in 0 for NA #####################\n",
      "Series([], dtype: int64)\n",
      "\n",
      "##################### Quantiles #####################\n",
      "                          count          mean       std       min        0%        5%       50%       95%       99%      100%       max\n",
      "PREGNANCIES               768.0 -6.476301e-17  1.000652 -1.141852 -1.141852 -1.141852 -0.250952  1.827813  2.718712  3.906578  3.906578\n",
      "GLUCOSE                   768.0 -9.251859e-18  1.000652 -3.783654 -3.783654 -1.311179 -0.121888  1.881130  2.350587  2.444478  2.444478\n",
      "BLOODPRESSURE             768.0  1.503427e-17  1.000652 -3.572597 -3.572597 -1.571894  0.149641  1.080200  1.907364  2.734528  2.734528\n",
      "SKINTHICKNESS             768.0  1.006140e-16  1.000652 -1.288212 -1.288212 -1.288212  0.154533  1.471822  1.931619  4.921866  4.921866\n",
      "INSULIN                   768.0  1.098658e-17  1.000652 -0.697537 -0.697537 -0.697537 -0.430388  1.868845  3.856259  5.718419  5.718419\n",
      "BMI                       768.0  2.590520e-16  1.000652 -4.060474 -4.060474 -1.293634  0.000942  1.574106  2.381820  4.455807  4.455807\n",
      "DIABETESPEDIGREEFUNCTION  768.0  2.451743e-16  1.000652 -1.189553 -1.189553 -1.001249 -0.300128  1.996219  3.704036  5.883565  5.883565\n",
      "AGE                       768.0  1.931325e-16  1.000652 -1.041549 -1.041549 -1.041549 -0.360847  2.106697  2.872487  4.063716  4.063716\n",
      "\n",
      "##################### Value Counts #####################\n",
      "[OUTCOME\n",
      "0    500\n",
      "1    268\n",
      "Name: count, dtype: int64, NEW_AGE_CAT\n",
      "young        488\n",
      "middleage    230\n",
      "old           50\n",
      "Name: count, dtype: int64, NEW_GLUCOSE_CAT\n",
      "normal         571\n",
      "prediabetes    197\n",
      "diabetes         0\n",
      "Name: count, dtype: int64, NEW_BMI_RANGE\n",
      "obese          472\n",
      "overweight     179\n",
      "healthy        102\n",
      "underweight     15\n",
      "Name: count, dtype: int64, NEW_BLOODPRESSURE\n",
      "normal    563\n",
      "hs1       145\n",
      "hs2        60\n",
      "Name: count, dtype: int64, NEW_AGE_GLUCOSE_CAT\n",
      "young_normal             392\n",
      "middleage_normal         145\n",
      "young_prediabetes         96\n",
      "middleage_prediabetes     85\n",
      "old_normal                26\n",
      "old_prediabetes           24\n",
      "Name: count, dtype: int64]\n"
     ]
    }
   ],
   "source": [
    "check_df(X)"
   ]
  },
  {
   "cell_type": "markdown",
   "id": "7f82ad466e1de1f4",
   "metadata": {
    "collapsed": false
   },
   "source": [
    "### 3. Model Building"
   ]
  },
  {
   "cell_type": "code",
   "execution_count": 159,
   "id": "f1fbad6510286ed4",
   "metadata": {
    "ExecuteTime": {
     "end_time": "2023-12-19T11:11:32.014804212Z",
     "start_time": "2023-12-19T11:11:23.280776204Z"
    },
    "collapsed": false
   },
   "outputs": [
    {
     "name": "stdout",
     "output_type": "stream",
     "text": [
      "Base Models....\n",
      "accuracy: 0.7435 (XGBoost) \n",
      "accuracy: 0.7422 (LightGBM) \n",
      "accuracy: 0.7734 (CatBoost) \n"
     ]
    }
   ],
   "source": [
    "def base_models(X, y, scoring=\"roc_auc\"):\n",
    "    print(\"Base Models....\")\n",
    "    classifiers = [('XGBoost', XGBClassifier(use_label_encoder=False, eval_metric='logloss')),\n",
    "                   ('LightGBM', LGBMClassifier(verbose=-1)),\n",
    "                   ('CatBoost', CatBoostClassifier(verbose=False))\n",
    "                   ]\n",
    "\n",
    "    for name, classifier in classifiers:\n",
    "        cv_results = cross_validate(classifier, X, y, cv=3, scoring=scoring)\n",
    "        print(f\"{scoring}: {round(cv_results['test_score'].mean(), 4)} ({name}) \")\n",
    "\n",
    "base_models(X, y, scoring=\"accuracy\")"
   ]
  },
  {
   "cell_type": "markdown",
   "id": "8c0945dbd80420ef",
   "metadata": {
    "collapsed": false
   },
   "source": [
    "### 4. Automated Hyperparameter Optimization"
   ]
  },
  {
   "cell_type": "code",
   "execution_count": 160,
   "id": "ba59236c22ed6cb7",
   "metadata": {
    "ExecuteTime": {
     "end_time": "2023-12-19T11:12:09.161617464Z",
     "start_time": "2023-12-19T11:11:31.976798321Z"
    },
    "collapsed": false
   },
   "outputs": [
    {
     "name": "stdout",
     "output_type": "stream",
     "text": [
      "Hyperparameter Optimization....\n",
      "########## XGBoost ##########\n",
      "roc_auc (Before): 0.8042\n",
      "roc_auc (After): 0.818\n",
      "XGBoost best params: {'learning_rate': 0.1, 'max_depth': 5, 'n_estimators': 100}\n",
      "\n",
      "########## LightGBM ##########\n",
      "roc_auc (Before): 0.8027\n",
      "roc_auc (After): 0.8183\n",
      "LightGBM best params: {'learning_rate': 0.01, 'n_estimators': 300}\n",
      "\n",
      "########## CatBoost ##########\n",
      "roc_auc (Before): 0.8364\n",
      "roc_auc (After): 0.8381\n",
      "CatBoost best params: {'iterations': 500, 'learning_rate': 0.01}\n"
     ]
    }
   ],
   "source": [
    "\n",
    "xgboost_params = {\"learning_rate\": [0.1, 0.01],\n",
    "                  \"max_depth\": [5, 8],\n",
    "                  \"n_estimators\": [100, 200]}\n",
    "\n",
    "lightgbm_params = {\"learning_rate\": [0.01, 0.1],\n",
    "                   \"n_estimators\": [300, 500]}\n",
    "\n",
    "catboost_params = {\"iterations\": [200, 500],\n",
    "                   \"learning_rate\": [0.01, 0.1]}\n",
    "\n",
    "\n",
    "classifiers = [('XGBoost', XGBClassifier(use_label_encoder=False, eval_metric='logloss'), xgboost_params),\n",
    "               ('LightGBM', LGBMClassifier(verbose=-1), lightgbm_params),\n",
    "               ('CatBoost', CatBoostClassifier(verbose=False), catboost_params)]  \n",
    "\n",
    "def hyperparameter_optimization(X, y, cv=3, scoring=\"roc_auc\"):\n",
    "    print(\"Hyperparameter Optimization....\")\n",
    "    best_models = {}\n",
    "    for name, classifier, params in classifiers:\n",
    "        print(f\"########## {name} ##########\")\n",
    "        cv_results = cross_validate(classifier, X, y, cv=cv, scoring=scoring)\n",
    "        print(f\"{scoring} (Before): {round(cv_results['test_score'].mean(), 4)}\")\n",
    "\n",
    "        gs_best = GridSearchCV(classifier, params, cv=cv, n_jobs=-1, verbose=False).fit(X, y)\n",
    "        final_model = classifier.set_params(**gs_best.best_params_)\n",
    "\n",
    "        cv_results = cross_validate(final_model, X, y, cv=cv, scoring=scoring)\n",
    "        print(f\"{scoring} (After): {round(cv_results['test_score'].mean(), 4)}\")\n",
    "        print(f\"{name} best params: {gs_best.best_params_}\", end=\"\\n\\n\")\n",
    "        best_models[name] = final_model\n",
    "    return best_models\n",
    "\n",
    "best_models = hyperparameter_optimization(X, y)"
   ]
  },
  {
   "cell_type": "code",
   "execution_count": 161,
   "id": "391b92199d345314",
   "metadata": {
    "ExecuteTime": {
     "end_time": "2023-12-19T11:12:12.902550236Z",
     "start_time": "2023-12-19T11:12:09.172208199Z"
    },
    "collapsed": false
   },
   "outputs": [
    {
     "name": "stdout",
     "output_type": "stream",
     "text": [
      "Voting Classifier...\n",
      "Accuracy: 0.7721354166666666\n",
      "F1Score: 0.6546764846378396\n",
      "ROC_AUC: 0.8296285488076537\n"
     ]
    }
   ],
   "source": [
    "def voting_classifier(best_models, X, y):\n",
    "    print(\"Voting Classifier...\")\n",
    "\n",
    "    voting_clf = VotingClassifier(estimators=[('XGBoost', best_models[\"XGBoost\"]),\n",
    "                                              ('LightGBM', best_models[\"LightGBM\"]),\n",
    "                                              ('CatBoost', best_models[\"CatBoost\"])],\n",
    "                                  voting='soft').fit(X, y)\n",
    "\n",
    "    cv_results = cross_validate(voting_clf, X, y, cv=3, scoring=[\"accuracy\", \"f1\", \"roc_auc\"])\n",
    "    print(f\"Accuracy: {cv_results['test_accuracy'].mean()}\")\n",
    "    print(f\"F1Score: {cv_results['test_f1'].mean()}\")\n",
    "    print(f\"ROC_AUC: {cv_results['test_roc_auc'].mean()}\")\n",
    "    return voting_clf\n",
    "\n",
    "voting_clf = voting_classifier(best_models, X, y)"
   ]
  },
  {
   "cell_type": "code",
   "execution_count": 184,
   "id": "e83362f0b85dec2e",
   "metadata": {
    "ExecuteTime": {
     "end_time": "2023-12-19T11:23:47.239155055Z",
     "start_time": "2023-12-19T11:23:47.204690968Z"
    },
    "collapsed": false
   },
   "outputs": [
    {
     "data": {
      "text/plain": [
       "array([1])"
      ]
     },
     "execution_count": 184,
     "metadata": {},
     "output_type": "execute_result"
    }
   ],
   "source": [
    "X.columns\n",
    "random_user = X.sample(1, random_state=45)\n",
    "voting_clf.predict(random_user)\n",
    "\n",
    "joblib.dump(voting_clf, \"voting_clf2.pkl\")\n",
    "\n",
    "new_model = joblib.load(\"voting_clf2.pkl\")\n",
    "new_model.predict(random_user)\n"
   ]
  },
  {
   "cell_type": "code",
   "execution_count": 164,
   "id": "7529f537e13abd10",
   "metadata": {
    "ExecuteTime": {
     "end_time": "2023-12-19T11:13:33.077720912Z",
     "start_time": "2023-12-19T11:12:38.903467389Z"
    },
    "collapsed": false
   },
   "outputs": [
    {
     "name": "stdout",
     "output_type": "stream",
     "text": [
      "Observations: 768\n",
      "Variables: 15\n",
      "cat_cols: 7\n",
      "num_cols: 8\n",
      "cat_but_car: 0\n",
      "num_but_cat: 1\n",
      "Observations: 768\n",
      "Variables: 34\n",
      "cat_cols: 26\n",
      "num_cols: 8\n",
      "cat_but_car: 0\n",
      "num_but_cat: 1\n",
      "Base Models....\n",
      "roc_auc: 0.8042 (XGBoost) \n",
      "roc_auc: 0.8027 (LightGBM) \n",
      "roc_auc: 0.8364 (CatBoost) \n",
      "Hyperparameter Optimization....\n",
      "########## XGBoost ##########\n",
      "roc_auc (Before): 0.818\n",
      "roc_auc (After): 0.818\n",
      "XGBoost best params: {'learning_rate': 0.1, 'max_depth': 5, 'n_estimators': 100}\n",
      "\n",
      "########## LightGBM ##########\n",
      "roc_auc (Before): 0.8183\n",
      "roc_auc (After): 0.8183\n",
      "LightGBM best params: {'learning_rate': 0.01, 'n_estimators': 300}\n",
      "\n",
      "########## CatBoost ##########\n",
      "roc_auc (Before): 0.8381\n",
      "roc_auc (After): 0.8381\n",
      "CatBoost best params: {'iterations': 500, 'learning_rate': 0.01}\n",
      "\n",
      "Voting Classifier...\n",
      "Accuracy: 0.7721354166666666\n",
      "F1Score: 0.6546764846378396\n",
      "ROC_AUC: 0.8296285488076537\n"
     ]
    },
    {
     "data": {
      "text/plain": [
       "['voting_clf.pkl']"
      ]
     },
     "execution_count": 164,
     "metadata": {},
     "output_type": "execute_result"
    }
   ],
   "source": [
    "df = pd.read_csv(\"/home/mustafa/PycharmProjects/diabetes_pred/diabetes.csv\")\n",
    "X, y = diabetes_data_prep(df)\n",
    "base_models(X, y)\n",
    "best_models = hyperparameter_optimization(X, y)\n",
    "voting_clf = voting_classifier(best_models, X, y)\n",
    "joblib.dump(voting_clf, \"voting_clf.pkl\")\n"
   ]
  },
  {
   "cell_type": "code",
   "execution_count": 182,
   "id": "d8903bce3e584709",
   "metadata": {
    "ExecuteTime": {
     "end_time": "2023-12-19T11:22:49.310709846Z",
     "start_time": "2023-12-19T11:22:49.236137724Z"
    },
    "collapsed": false
   },
   "outputs": [
    {
     "data": {
      "text/plain": [
       "array([0])"
      ]
     },
     "execution_count": 182,
     "metadata": {},
     "output_type": "execute_result"
    }
   ],
   "source": [
    "\n",
    "random_user = X.sample(1, random_state=1)\n",
    "\n",
    "voting_clf.predict(random_user)\n"
   ]
  },
  {
   "cell_type": "code",
   "execution_count": null,
   "id": "174ad32c74e5506c",
   "metadata": {
    "collapsed": false
   },
   "outputs": [],
   "source": []
  }
 ],
 "metadata": {
  "kernelspec": {
   "display_name": "Python 3 (ipykernel)",
   "language": "python",
   "name": "python3"
  },
  "language_info": {
   "codemirror_mode": {
    "name": "ipython",
    "version": 3
   },
   "file_extension": ".py",
   "mimetype": "text/x-python",
   "name": "python",
   "nbconvert_exporter": "python",
   "pygments_lexer": "ipython3",
   "version": "3.11.5"
  }
 },
 "nbformat": 4,
 "nbformat_minor": 5
}
